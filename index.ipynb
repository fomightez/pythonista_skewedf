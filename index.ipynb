{
 "cells": [
  {
   "cell_type": "markdown",
   "metadata": {},
   "source": [
    "# Demonstrate the [SkeweDF](https://github.com/gragedaa/SkeweDF) functions"
   ]
  },
  {
   "cell_type": "markdown",
   "metadata": {},
   "source": [
    "Choose one of the available notebooks to get started. If you are new, start at the top and work down.\n",
    "\n",
    "### Available Notebooks\n",
    "\n",
    "- [Demonstrate function `SkeweDF::get_CI()` in R](notebooks/test_SkeweDF-get_CI_in_R.ipynb)\n",
    "- TBD: others](notebooks/????.ipynb)\n",
    "- \n",
    "\n",
     "#### Related\n",
    "\n",
    "See ???\n",
    "\n",
    "-----"
   ]
  }
 ],
 "metadata": {
  "kernelspec": {
   "display_name": "Python 3 (ipykernel)",
   "language": "python",
   "name": "python3"
  },
  "language_info": {
   "codemirror_mode": {
    "name": "ipython",
    "version": 3
   },
   "file_extension": ".py",
   "mimetype": "text/x-python",
   "name": "python",
   "nbconvert_exporter": "python",
   "pygments_lexer": "ipython3",
   "version": "3.7.10"
  }
 },
 "nbformat": 4,
 "nbformat_minor": 4
}
