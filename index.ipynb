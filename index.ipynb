{
 "cells": [
  {
   "cell_type": "markdown",
   "metadata": {},
   "source": [
    "# Demonstrate the [SkeweDF](https://github.com/gragedaa/SkeweDF) functions"
   ]
  },
  {
   "cell_type": "markdown",
   "metadata": {},
   "source": [
    "The 'Main Development Cycle' Jupyter notebook is likely the one you seek. The others support this The direct links to the support Jupyter notebooks are here for convenience.\n",
    "\n",
    "### Main development cycle for now\n",
    "\n",
    "- [Main Development Cycle Jupyter notebook](main_development.ipynb)\n",
    "- [TBD: others](notebooks/????.ipynb)\n",
    "- \n",
    "\n",
    "\n",
    "#### R version tests\n",
    "\n",
    "- [Demonstrate function `SkeweDF::get_CI()`](test_nbs/r_ver/SkeweDF-get_CI.ipynb)\n",
    "- [Demonstrate function `SkeweDF::get_median_CI()`](test_nbs/r_ver/SkeweDF-get_median_CI.ipynb)\n",
    "- [Demonstrate function `SkeweDF::Exponential()`](test_nbs/r_ver/SkeweDF-Exponential.ipynb)\n",
    "- [Demonstrate function `SkeweDF::Yule()`](test_nbs/r_ver/SkeweDF-Yule.ipynb)\n",
    "- [TBD: others](test_nbs/r_ver/????.ipynb)\n",
    "\n",
    "#### Python version tests\n",
    "\n",
    "- [Demonstrate function `skewedf.get_CI()`](test_nbs/py_ver/SkeweDF-get_CI_wPy.ipynb)\n",
    "- [Demonstrate function `skewedf.get_median_CI()`](test_nbs/py_ver/SkeweDF-get_median_CI_wPy.ipynb)\n",
    "- [Demonstrate function `skewedf.Exponential()`](test_nbs/py_ver/SkeweDF-Exponential_wPy.ipynb)\n",
    "- [Demonstrate function `skewedf.Yule()`](test_nbs/py_ver/SkeweDF-Yule_wPy.ipynb)\n",
    "- [TBD: others](test_nbs/py_ver/????.ipynb)\n",
    "\n",
    "\n",
    "-----"
   ]
  }
 ],
 "metadata": {
  "kernelspec": {
   "display_name": "Python 3 (ipykernel)",
   "language": "python",
   "name": "python3"
  },
  "language_info": {
   "codemirror_mode": {
    "name": "ipython",
    "version": 3
   },
   "file_extension": ".py",
   "mimetype": "text/x-python",
   "name": "python",
   "nbconvert_exporter": "python",
   "pygments_lexer": "ipython3",
   "version": "3.7.12"
  }
 },
 "nbformat": 4,
 "nbformat_minor": 4
}
