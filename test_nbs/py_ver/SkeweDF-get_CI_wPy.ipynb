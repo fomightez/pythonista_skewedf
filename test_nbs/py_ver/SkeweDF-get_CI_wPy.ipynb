{
 "cells": [
  {
   "cell_type": "markdown",
   "id": "965c6dd9-e3a7-4b9e-bb0d-7d45c05155a2",
   "metadata": {},
   "source": [
    "# Testing `SkeweDF::get_CI()` in Python\n",
    "\n",
    "Load the **SkeweDF** module and get the involved function."
   ]
  },
  {
   "cell_type": "code",
   "execution_count": 1,
   "id": "d9183134-ae7c-4c3b-8e9a-2a2c5e3c5e92",
   "metadata": {},
   "outputs": [],
   "source": [
    "import skewedf"
   ]
  },
  {
   "cell_type": "markdown",
   "id": "144c9e29-11d0-4789-98b4-cc148607f1ca",
   "metadata": {},
   "source": [
    "--------\n",
    "\n",
    "\n",
    "Examples of data and results:"
   ]
  },
  {
   "cell_type": "code",
   "execution_count": 2,
   "id": "3e2e376a-1486-470d-bea5-db1ed51f4639",
   "metadata": {},
   "outputs": [],
   "source": [
    "w1 = [230.00,210.00,400.00]"
   ]
  },
  {
   "cell_type": "code",
   "execution_count": 3,
   "id": "d1c591ba-a483-459f-ad71-c5b19d004842",
   "metadata": {},
   "outputs": [
    {
     "data": {
      "text/plain": [
       "(122.0641420557186, 437.9358579442814)"
      ]
     },
     "execution_count": 3,
     "metadata": {},
     "output_type": "execute_result"
    }
   ],
   "source": [
    "skewedf.get_CI(w1,0.06)"
   ]
  },
  {
   "cell_type": "code",
   "execution_count": 4,
   "id": "4da6be49-5b56-431e-825b-98c73ae4ab4b",
   "metadata": {},
   "outputs": [],
   "source": [
    "import numpy as np\n",
    "w2 = np.array([2530.00,5210.00,2400.00])"
   ]
  },
  {
   "cell_type": "code",
   "execution_count": 5,
   "id": "734c3bbf-1d2a-45eb-915c-939306a5b7cb",
   "metadata": {},
   "outputs": [
    {
     "data": {
      "text/plain": [
       "(705.9669726071602, 6054.033027392839)"
      ]
     },
     "execution_count": 5,
     "metadata": {},
     "output_type": "execute_result"
    }
   ],
   "source": [
    "skewedf.get_CI(w2,0.05)"
   ]
  },
  {
   "cell_type": "code",
   "execution_count": 6,
   "id": "a368aef7-ddd2-4199-94fb-c80d932e5bc9",
   "metadata": {},
   "outputs": [],
   "source": [
    "w3 = [430.00,810.00,600.00]"
   ]
  },
  {
   "cell_type": "code",
   "execution_count": 7,
   "id": "e73f8857-2b95-40fc-b233-9340275e1771",
   "metadata": {},
   "outputs": [
    {
     "data": {
      "text/plain": [
       "(248.49477187556437, 978.1718947911024)"
      ]
     },
     "execution_count": 7,
     "metadata": {},
     "output_type": "execute_result"
    }
   ],
   "source": [
    "skewedf.get_CI(w3,0.04)"
   ]
  }
 ],
 "metadata": {
  "kernelspec": {
   "display_name": "Python 3 (ipykernel)",
   "language": "python",
   "name": "python3"
  },
  "language_info": {
   "codemirror_mode": {
    "name": "ipython",
    "version": 3
   },
   "file_extension": ".py",
   "mimetype": "text/x-python",
   "name": "python",
   "nbconvert_exporter": "python",
   "pygments_lexer": "ipython3",
   "version": "3.7.12"
  }
 },
 "nbformat": 4,
 "nbformat_minor": 5
}
