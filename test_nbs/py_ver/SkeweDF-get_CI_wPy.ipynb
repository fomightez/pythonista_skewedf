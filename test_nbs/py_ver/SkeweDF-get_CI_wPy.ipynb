{
 "cells": [
  {
   "cell_type": "markdown",
   "id": "965c6dd9-e3a7-4b9e-bb0d-7d45c05155a2",
   "metadata": {},
   "source": [
    "# Testing `skewedf.get_CI()` in Python\n",
    "\n",
    "Load the **skewedf** module and get the involved function."
   ]
  },
  {
   "cell_type": "code",
   "execution_count": 1,
   "id": "d9183134-ae7c-4c3b-8e9a-2a2c5e3c5e92",
   "metadata": {},
   "outputs": [
    {
     "ename": "ModuleNotFoundError",
     "evalue": "No module named 'skewedf'",
     "output_type": "error",
     "traceback": [
      "\u001b[0;31m---------------------------------------------------------------------------\u001b[0m",
      "\u001b[0;31mModuleNotFoundError\u001b[0m                       Traceback (most recent call last)",
      "\u001b[0;32m/tmp/ipykernel_554/126987154.py\u001b[0m in \u001b[0;36m<module>\u001b[0;34m\u001b[0m\n\u001b[0;32m----> 1\u001b[0;31m \u001b[0;32mimport\u001b[0m \u001b[0mskewedf\u001b[0m\u001b[0;34m\u001b[0m\u001b[0;34m\u001b[0m\u001b[0m\n\u001b[0m",
      "\u001b[0;31mModuleNotFoundError\u001b[0m: No module named 'skewedf'"
     ]
    }
   ],
   "source": [
    "import skewedf"
   ]
  },
  {
   "cell_type": "markdown",
   "id": "144c9e29-11d0-4789-98b4-cc148607f1ca",
   "metadata": {},
   "source": [
    "--------\n",
    "\n",
    "\n",
    "Examples of data and results:"
   ]
  },
  {
   "cell_type": "code",
   "execution_count": null,
   "id": "3e2e376a-1486-470d-bea5-db1ed51f4639",
   "metadata": {},
   "outputs": [],
   "source": [
    "w1 = [230.00,210.00,400.00]"
   ]
  },
  {
   "cell_type": "code",
   "execution_count": null,
   "id": "d1c591ba-a483-459f-ad71-c5b19d004842",
   "metadata": {},
   "outputs": [],
   "source": [
    "skewedf.get_CI(w1,0.06)"
   ]
  },
  {
   "cell_type": "code",
   "execution_count": null,
   "id": "4da6be49-5b56-431e-825b-98c73ae4ab4b",
   "metadata": {},
   "outputs": [],
   "source": [
    "import numpy as np\n",
    "w2 = np.array([2530.00,5210.00,2400.00])"
   ]
  },
  {
   "cell_type": "code",
   "execution_count": null,
   "id": "360bf703-94de-4dd1-a1f2-7b6690095b79",
   "metadata": {},
   "outputs": [],
   "source": [
    "skewedf.get_CI(w2,0.05)"
   ]
  },
  {
   "cell_type": "code",
   "execution_count": null,
   "id": "a368aef7-ddd2-4199-94fb-c80d932e5bc9",
   "metadata": {},
   "outputs": [],
   "source": [
    "w3 = [430.00,810.00,600.00]"
   ]
  },
  {
   "cell_type": "code",
   "execution_count": null,
   "id": "e73f8857-2b95-40fc-b233-9340275e1771",
   "metadata": {},
   "outputs": [],
   "source": [
    "skewedf.get_CI(w3,0.04)"
   ]
  }
 ],
 "metadata": {
  "kernelspec": {
   "display_name": "Python 3 (ipykernel)",
   "language": "python",
   "name": "python3"
  },
  "language_info": {
   "codemirror_mode": {
    "name": "ipython",
    "version": 3
   },
   "file_extension": ".py",
   "mimetype": "text/x-python",
   "name": "python",
   "nbconvert_exporter": "python",
   "pygments_lexer": "ipython3",
   "version": "3.7.12"
  }
 },
 "nbformat": 4,
 "nbformat_minor": 5
}
