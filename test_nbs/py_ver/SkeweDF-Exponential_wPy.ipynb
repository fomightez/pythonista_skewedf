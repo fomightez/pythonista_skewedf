{
 "cells": [
  {
   "cell_type": "markdown",
   "id": "965c6dd9-e3a7-4b9e-bb0d-7d45c05155a2",
   "metadata": {},
   "source": [
    "# Testing `skewedf.exponential()` in Python\n",
    "\n",
    "Load the **skewedf** module and get the involved function."
   ]
  },
  {
   "cell_type": "code",
   "execution_count": 1,
   "id": "d9183134-ae7c-4c3b-8e9a-2a2c5e3c5e92",
   "metadata": {},
   "outputs": [],
   "source": [
    "import skewedf"
   ]
  },
  {
   "cell_type": "markdown",
   "id": "144c9e29-11d0-4789-98b4-cc148607f1ca",
   "metadata": {},
   "source": [
    "--------\n",
    "\n",
    "\n",
    "Examples of use and results:"
   ]
  },
  {
   "cell_type": "code",
   "execution_count": 2,
   "id": "d1c591ba-a483-459f-ad71-c5b19d004842",
   "metadata": {},
   "outputs": [
    {
     "name": "stdout",
     "output_type": "stream",
     "text": [
      "1347.9868923516647\n",
      "605.6895539839661\n",
      "272.1538598682374\n",
      "122.28661193509863\n",
      "54.94691666620253\n",
      "24.68924114706007\n",
      "11.093591149448788\n",
      "4.984671819521802\n",
      "2.2397574251300374\n",
      "1.0063878837075355\n",
      "0.45219922528642953\n",
      "0.20318620947256133\n",
      "0.09129744902521088\n",
      "0.04102258819704281\n",
      "0.01843263705998463\n",
      "0.008282317716111596\n",
      "0.003721485239870134\n",
      "0.0016721711078083786\n",
      "0.0007513549116982852\n",
      "0.00033760552415777734\n"
     ]
    }
   ],
   "source": [
    "a = skewedf.Exponential(20, 3000, 0.8)\n",
    "[print(r) for r in a];"
   ]
  },
  {
   "cell_type": "code",
   "execution_count": 3,
   "id": "734c3bbf-1d2a-45eb-915c-939306a5b7cb",
   "metadata": {},
   "outputs": [
    {
     "name": "stdout",
     "output_type": "stream",
     "text": [
      "54.88116360940264\n",
      "30.119421191220212\n",
      "16.529888822158657\n",
      "9.071795328941251\n",
      "4.978706836786395\n",
      "2.732372244729257\n",
      "1.4995576820477703\n",
      "0.822974704902003\n",
      "0.451658094261267\n",
      "0.24787521766663584\n",
      "0.13603680375478938\n",
      "0.07465858083766798\n",
      "0.04097349789797868\n",
      "0.02248673241788482\n",
      "0.012340980408667957\n",
      "0.00677287364908539\n",
      "0.0037170318684126733\n",
      "0.002039950341117196\n",
      "0.001119548484259094\n",
      "0.000614421235332821\n"
     ]
    }
   ],
   "source": [
    "a = skewedf.Exponential(20, 100, 0.6)\n",
    "[print(r) for r in a];"
   ]
  },
  {
   "cell_type": "code",
   "execution_count": 4,
   "id": "e73f8857-2b95-40fc-b233-9340275e1771",
   "metadata": {},
   "outputs": [
    {
     "name": "stdout",
     "output_type": "stream",
     "text": [
      "99.31706075828191\n",
      "49.319392788321295\n",
      "24.49128565059639\n",
      "12.162012525043595\n",
      "6.0394766844637005\n",
      "2.9991153640955432\n",
      "1.4893166141848688\n",
      "0.7395727432965864\n",
      "0.3672609554057814\n",
      "0.18237639311090326\n",
      "0.09056543657735948\n",
      "0.04497346483576972\n",
      "0.022333161698022956\n",
      "0.011090319886435407\n",
      "0.005507289869949431\n",
      "0.002734839213136193\n",
      "0.0013580809614758965\n",
      "0.0006744030468278369\n",
      "0.0003348986418868538\n",
      "0.00016630574382071357\n",
      "8.258498831746543e-05\n",
      "4.1010491512238606e-05\n",
      "2.0365207386240046e-05\n",
      "1.0113062696671078e-05\n",
      "5.021998311487964e-06\n"
     ]
    }
   ],
   "source": [
    "a = skewedf.Exponential(25, 200, 0.7)\n",
    "[print(r) for r in a];"
   ]
  }
 ],
 "metadata": {
  "kernelspec": {
   "display_name": "Python 3 (ipykernel)",
   "language": "python",
   "name": "python3"
  },
  "language_info": {
   "codemirror_mode": {
    "name": "ipython",
    "version": 3
   },
   "file_extension": ".py",
   "mimetype": "text/x-python",
   "name": "python",
   "nbconvert_exporter": "python",
   "pygments_lexer": "ipython3",
   "version": "3.7.12"
  }
 },
 "nbformat": 4,
 "nbformat_minor": 5
}
