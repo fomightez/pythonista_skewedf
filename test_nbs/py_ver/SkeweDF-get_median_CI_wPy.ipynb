{
 "cells": [
  {
   "cell_type": "markdown",
   "id": "965c6dd9-e3a7-4b9e-bb0d-7d45c05155a2",
   "metadata": {},
   "source": [
    "# Testing `SkeweDF::get_median_CI()` in Python\n",
    "\n",
    "Load the **SkeweDF** module and get the involved function."
   ]
  },
  {
   "cell_type": "code",
   "execution_count": 1,
   "id": "d9183134-ae7c-4c3b-8e9a-2a2c5e3c5e92",
   "metadata": {},
   "outputs": [],
   "source": [
    "import skewedf"
   ]
  },
  {
   "cell_type": "markdown",
   "id": "144c9e29-11d0-4789-98b4-cc148607f1ca",
   "metadata": {},
   "source": [
    "--------\n",
    "\n",
    "\n",
    "Examples of data and results:"
   ]
  },
  {
   "cell_type": "code",
   "execution_count": 2,
   "id": "3e2e376a-1486-470d-bea5-db1ed51f4639",
   "metadata": {},
   "outputs": [],
   "source": [
    "w1 = [6.2, 6.6, 7.1, 7.4, 7.6, 7.9, 8, 8.3, 8.4, 8.5, 8.6,8.8, 8.8, 9.1, 9.2, 9.4, 9.4, 9.7, 9.9, 10.2, 10.4, 10.8,11.3, 11.9] # from https://pages.stat.wisc.edu/~yandell/st571/R/append7.pdf"
   ]
  },
  {
   "cell_type": "code",
   "execution_count": 3,
   "id": "d1c591ba-a483-459f-ad71-c5b19d004842",
   "metadata": {},
   "outputs": [
    {
     "data": {
      "text/plain": [
       "(8, 9.7)"
      ]
     },
     "execution_count": 3,
     "metadata": {},
     "output_type": "execute_result"
    }
   ],
   "source": [
    "skewedf.get_median_CI(w1)"
   ]
  },
  {
   "cell_type": "code",
   "execution_count": 4,
   "id": "4da6be49-5b56-431e-825b-98c73ae4ab4b",
   "metadata": {},
   "outputs": [
    {
     "name": "stdout",
     "output_type": "stream",
     "text": [
      "  % Total    % Received % Xferd  Average Speed   Time    Time     Time  Current\n",
      "                                 Dload  Upload   Total   Spent    Left  Speed\n",
      "100   275  100   275    0     0   1145      0 --:--:-- --:--:-- --:--:--  1145\n"
     ]
    }
   ],
   "source": [
    "!curl -o w2.dat -L https://www.cyclismo.org/tutorial/R/_static/w1.dat\n",
    "import pandas as pd\n",
    "w2 = pd.read_csv(\"w2.dat\")"
   ]
  },
  {
   "cell_type": "code",
   "execution_count": 5,
   "id": "360bf703-94de-4dd1-a1f2-7b6690095b79",
   "metadata": {},
   "outputs": [
    {
     "data": {
      "text/plain": [
       "(0.58, 0.83)"
      ]
     },
     "execution_count": 5,
     "metadata": {},
     "output_type": "execute_result"
    }
   ],
   "source": [
    "skewedf.get_median_CI(w2.vals)"
   ]
  },
  {
   "cell_type": "code",
   "execution_count": 6,
   "id": "a368aef7-ddd2-4199-94fb-c80d932e5bc9",
   "metadata": {},
   "outputs": [],
   "source": [
    "w3 = [44617, 7066, 17594, 2726, 1178, 18898, 5033, 37151, 4514, 4000] # from http://www.stat.ucla.edu/~rgould/110as02/bsci"
   ]
  },
  {
   "cell_type": "code",
   "execution_count": 7,
   "id": "e73f8857-2b95-40fc-b233-9340275e1771",
   "metadata": {},
   "outputs": [
    {
     "data": {
      "text/plain": [
       "(2726, 37151)"
      ]
     },
     "execution_count": 7,
     "metadata": {},
     "output_type": "execute_result"
    }
   ],
   "source": [
    "skewedf.get_median_CI(w3)"
   ]
  }
 ],
 "metadata": {
  "kernelspec": {
   "display_name": "Python 3 (ipykernel)",
   "language": "python",
   "name": "python3"
  },
  "language_info": {
   "codemirror_mode": {
    "name": "ipython",
    "version": 3
   },
   "file_extension": ".py",
   "mimetype": "text/x-python",
   "name": "python",
   "nbconvert_exporter": "python",
   "pygments_lexer": "ipython3",
   "version": "3.7.12"
  }
 },
 "nbformat": 4,
 "nbformat_minor": 5
}
