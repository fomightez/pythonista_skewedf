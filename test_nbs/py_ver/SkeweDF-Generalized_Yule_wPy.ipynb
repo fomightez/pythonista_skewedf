{
 "cells": [
  {
   "cell_type": "markdown",
   "id": "965c6dd9-e3a7-4b9e-bb0d-7d45c05155a2",
   "metadata": {},
   "source": [
    "# Testing `skewedf.Generalized_Yule()` in Python\n",
    "\n",
    "Load the **skewedf** module and get the involved function."
   ]
  },
  {
   "cell_type": "code",
   "execution_count": 1,
   "id": "d9183134-ae7c-4c3b-8e9a-2a2c5e3c5e92",
   "metadata": {},
   "outputs": [],
   "source": [
    "import skewedf"
   ]
  },
  {
   "cell_type": "markdown",
   "id": "144c9e29-11d0-4789-98b4-cc148607f1ca",
   "metadata": {},
   "source": [
    "--------\n",
    "\n",
    "\n",
    "Examples of use and results:"
   ]
  },
  {
   "cell_type": "code",
   "execution_count": 2,
   "id": "d1c591ba-a483-459f-ad71-c5b19d004842",
   "metadata": {},
   "outputs": [
    {
     "name": "stdout",
     "output_type": "stream",
     "text": [
      "nan\n",
      "nan\n",
      "nan\n",
      "nan\n",
      "nan\n",
      "nan\n",
      "nan\n",
      "nan\n",
      "nan\n",
      "nan\n",
      "nan\n",
      "nan\n",
      "nan\n",
      "nan\n",
      "nan\n",
      "nan\n",
      "nan\n",
      "nan\n",
      "nan\n",
      "nan\n"
     ]
    }
   ],
   "source": [
    "a = skewedf.Generalized_Yule(20, 3, 0.1)\n",
    "[print(r) for r in a];"
   ]
  },
  {
   "cell_type": "code",
   "execution_count": 3,
   "id": "734c3bbf-1d2a-45eb-915c-939306a5b7cb",
   "metadata": {},
   "outputs": [
    {
     "name": "stdout",
     "output_type": "stream",
     "text": [
      "nan\n",
      "nan\n",
      "nan\n",
      "nan\n",
      "nan\n",
      "nan\n",
      "nan\n",
      "nan\n",
      "nan\n",
      "nan\n",
      "nan\n",
      "nan\n",
      "nan\n",
      "nan\n",
      "nan\n",
      "nan\n",
      "nan\n",
      "nan\n",
      "nan\n",
      "nan\n",
      "nan\n",
      "nan\n",
      "nan\n",
      "nan\n",
      "nan\n",
      "nan\n",
      "nan\n",
      "nan\n",
      "nan\n",
      "nan\n",
      "nan\n",
      "nan\n",
      "nan\n",
      "nan\n",
      "nan\n",
      "nan\n",
      "nan\n",
      "nan\n",
      "nan\n",
      "nan\n",
      "nan\n",
      "nan\n",
      "nan\n"
     ]
    }
   ],
   "source": [
    "a = skewedf.Generalized_Yule(43, 5, 0.25)\n",
    "[print(r) for r in a];"
   ]
  },
  {
   "cell_type": "code",
   "execution_count": 4,
   "id": "e73f8857-2b95-40fc-b233-9340275e1771",
   "metadata": {},
   "outputs": [
    {
     "name": "stdout",
     "output_type": "stream",
     "text": [
      "nan\n",
      "nan\n",
      "nan\n",
      "nan\n",
      "nan\n",
      "nan\n",
      "nan\n",
      "nan\n",
      "nan\n",
      "nan\n",
      "nan\n",
      "nan\n",
      "nan\n",
      "nan\n",
      "nan\n",
      "nan\n",
      "nan\n",
      "nan\n",
      "nan\n",
      "nan\n",
      "nan\n",
      "nan\n",
      "nan\n",
      "nan\n",
      "nan\n",
      "nan\n",
      "nan\n",
      "nan\n",
      "nan\n",
      "nan\n",
      "nan\n",
      "nan\n",
      "nan\n",
      "nan\n",
      "nan\n",
      "nan\n",
      "nan\n"
     ]
    }
   ],
   "source": [
    "a = skewedf.Generalized_Yule(37, 4, 0.5)\n",
    "[print(r) for r in a];"
   ]
  }
 ],
 "metadata": {
  "kernelspec": {
   "display_name": "Python 3 (ipykernel)",
   "language": "python",
   "name": "python3"
  },
  "language_info": {
   "codemirror_mode": {
    "name": "ipython",
    "version": 3
   },
   "file_extension": ".py",
   "mimetype": "text/x-python",
   "name": "python",
   "nbconvert_exporter": "python",
   "pygments_lexer": "ipython3",
   "version": "3.7.12"
  }
 },
 "nbformat": 4,
 "nbformat_minor": 5
}
