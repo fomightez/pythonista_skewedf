{
 "cells": [
  {
   "cell_type": "markdown",
   "id": "965c6dd9-e3a7-4b9e-bb0d-7d45c05155a2",
   "metadata": {},
   "source": [
    "# Testing `SkeweDF::get_median_CI()` in R\n",
    "\n",
    "Load the **SkeweDF** package"
   ]
  },
  {
   "cell_type": "code",
   "execution_count": 1,
   "id": "d9183134-ae7c-4c3b-8e9a-2a2c5e3c5e92",
   "metadata": {},
   "outputs": [],
   "source": [
    "library(SkeweDF)"
   ]
  },
  {
   "cell_type": "markdown",
   "id": "144c9e29-11d0-4789-98b4-cc148607f1ca",
   "metadata": {},
   "source": [
    "--------\n",
    "\n",
    "\n",
    "Examples of data and results:"
   ]
  },
  {
   "cell_type": "code",
   "execution_count": 2,
   "id": "420514ee-1e45-4663-a201-514ee501a7e5",
   "metadata": {},
   "outputs": [],
   "source": [
    "w1 <-  c(6.2, 6.6, 7.1, 7.4, 7.6, 7.9, 8, 8.3, 8.4, 8.5, 8.6,\n",
    "+ 8.8, 8.8, 9.1, 9.2, 9.4, 9.4, 9.7, 9.9, 10.2, 10.4, 10.8,\n",
    "+ 11.3, 11.9) # from https://pages.stat.wisc.edu/~yandell/st571/R/append7.pdf"
   ]
  },
  {
   "cell_type": "code",
   "execution_count": 3,
   "id": "c12e8dee-f398-494f-8b68-776b3d6a1e37",
   "metadata": {},
   "outputs": [
    {
     "data": {
      "text/html": [
       "<style>\n",
       ".list-inline {list-style: none; margin:0; padding: 0}\n",
       ".list-inline>li {display: inline-block}\n",
       ".list-inline>li:not(:last-child)::after {content: \"\\00b7\"; padding: 0 .5ex}\n",
       "</style>\n",
       "<ol class=list-inline><li>8</li><li>9.7</li></ol>\n"
      ],
      "text/latex": [
       "\\begin{enumerate*}\n",
       "\\item 8\n",
       "\\item 9.7\n",
       "\\end{enumerate*}\n"
      ],
      "text/markdown": [
       "1. 8\n",
       "2. 9.7\n",
       "\n",
       "\n"
      ],
      "text/plain": [
       "[1] 8.0 9.7"
      ]
     },
     "metadata": {},
     "output_type": "display_data"
    }
   ],
   "source": [
    "SkeweDF::get_median_CI(w1)"
   ]
  },
  {
   "cell_type": "code",
   "execution_count": 4,
   "id": "4da6be49-5b56-431e-825b-98c73ae4ab4b",
   "metadata": {},
   "outputs": [],
   "source": [
    "download.file(\"https://www.cyclismo.org/tutorial/R/_static/w1.dat\", \"w2.dat\")# from https://www.cyclismo.org/tutorial/R/confidence.html\n",
    "w2 <- read.csv(file=\"w2.dat\",sep=\",\",head=TRUE)"
   ]
  },
  {
   "cell_type": "code",
   "execution_count": 5,
   "id": "360bf703-94de-4dd1-a1f2-7b6690095b79",
   "metadata": {},
   "outputs": [
    {
     "data": {
      "text/html": [
       "<style>\n",
       ".list-inline {list-style: none; margin:0; padding: 0}\n",
       ".list-inline>li {display: inline-block}\n",
       ".list-inline>li:not(:last-child)::after {content: \"\\00b7\"; padding: 0 .5ex}\n",
       "</style>\n",
       "<ol class=list-inline><li>0.58</li><li>0.83</li></ol>\n"
      ],
      "text/latex": [
       "\\begin{enumerate*}\n",
       "\\item 0.58\n",
       "\\item 0.83\n",
       "\\end{enumerate*}\n"
      ],
      "text/markdown": [
       "1. 0.58\n",
       "2. 0.83\n",
       "\n",
       "\n"
      ],
      "text/plain": [
       "[1] 0.58 0.83"
      ]
     },
     "metadata": {},
     "output_type": "display_data"
    }
   ],
   "source": [
    "SkeweDF::get_median_CI(w2$vals)"
   ]
  },
  {
   "cell_type": "code",
   "execution_count": 6,
   "id": "a0eed4d6-337a-42a1-8716-3bd80f3e267e",
   "metadata": {},
   "outputs": [],
   "source": [
    "w3 <- c(44617, 7066, 17594, 2726, 1178, 18898, 5033, 37151, 4514, 4000) # from http://www.stat.ucla.edu/~rgould/110as02/bsci"
   ]
  },
  {
   "cell_type": "code",
   "execution_count": 7,
   "id": "c2c1d49c-0d4e-41b5-91b2-14e646d4c30e",
   "metadata": {},
   "outputs": [
    {
     "data": {
      "text/html": [
       "<style>\n",
       ".list-inline {list-style: none; margin:0; padding: 0}\n",
       ".list-inline>li {display: inline-block}\n",
       ".list-inline>li:not(:last-child)::after {content: \"\\00b7\"; padding: 0 .5ex}\n",
       "</style>\n",
       "<ol class=list-inline><li>2726</li><li>37151</li></ol>\n"
      ],
      "text/latex": [
       "\\begin{enumerate*}\n",
       "\\item 2726\n",
       "\\item 37151\n",
       "\\end{enumerate*}\n"
      ],
      "text/markdown": [
       "1. 2726\n",
       "2. 37151\n",
       "\n",
       "\n"
      ],
      "text/plain": [
       "[1]  2726 37151"
      ]
     },
     "metadata": {},
     "output_type": "display_data"
    }
   ],
   "source": [
    "SkeweDF::get_median_CI(w3)"
   ]
  }
 ],
 "metadata": {
  "kernelspec": {
   "display_name": "R",
   "language": "R",
   "name": "ir"
  },
  "language_info": {
   "codemirror_mode": "r",
   "file_extension": ".r",
   "mimetype": "text/x-r-source",
   "name": "R",
   "pygments_lexer": "r",
   "version": "4.1.2"
  }
 },
 "nbformat": 4,
 "nbformat_minor": 5
}
