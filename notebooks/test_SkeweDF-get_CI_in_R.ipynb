{
 "cells": [
  {
   "cell_type": "markdown",
   "id": "965c6dd9-e3a7-4b9e-bb0d-7d45c05155a2",
   "metadata": {},
   "source": [
    "# Testing `SkeweDF::get_CI()` in R\n",
    "\n",
    "Load the **SkeweDF** package"
   ]
  },
  {
   "cell_type": "code",
   "execution_count": 1,
   "id": "d9183134-ae7c-4c3b-8e9a-2a2c5e3c5e92",
   "metadata": {},
   "outputs": [],
   "source": [
    "library(SkeweDF)"
   ]
  },
  {
   "cell_type": "markdown",
   "id": "144c9e29-11d0-4789-98b4-cc148607f1ca",
   "metadata": {},
   "source": [
    "--------\n",
    "\n",
    "\n",
    "Examples of data and results:"
   ]
  },
  {
   "cell_type": "code",
   "execution_count": 2,
   "id": "3e2e376a-1486-470d-bea5-db1ed51f4639",
   "metadata": {},
   "outputs": [],
   "source": [
    "w1 <- c(230.00,210.00,400.00)"
   ]
  },
  {
   "cell_type": "code",
   "execution_count": 3,
   "id": "d1c591ba-a483-459f-ad71-c5b19d004842",
   "metadata": {},
   "outputs": [
    {
     "data": {
      "text/html": [
       "<style>\n",
       ".list-inline {list-style: none; margin:0; padding: 0}\n",
       ".list-inline>li {display: inline-block}\n",
       ".list-inline>li:not(:last-child)::after {content: \"\\00b7\"; padding: 0 .5ex}\n",
       "</style>\n",
       "<ol class=list-inline><li>480.105874754119</li><li>79.8941252458812</li></ol>\n"
      ],
      "text/latex": [
       "\\begin{enumerate*}\n",
       "\\item 480.105874754119\n",
       "\\item 79.8941252458812\n",
       "\\end{enumerate*}\n"
      ],
      "text/markdown": [
       "1. 480.105874754119\n",
       "2. 79.8941252458812\n",
       "\n",
       "\n"
      ],
      "text/plain": [
       "[1] 480.10587  79.89413"
      ]
     },
     "metadata": {},
     "output_type": "display_data"
    }
   ],
   "source": [
    "SkeweDF::get_CI(w1,0.96)"
   ]
  },
  {
   "cell_type": "code",
   "execution_count": 4,
   "id": "4da6be49-5b56-431e-825b-98c73ae4ab4b",
   "metadata": {},
   "outputs": [],
   "source": [
    "w2 <- c(2530.00,5210.00,2400.00)"
   ]
  },
  {
   "cell_type": "code",
   "execution_count": 5,
   "id": "360bf703-94de-4dd1-a1f2-7b6690095b79",
   "metadata": {},
   "outputs": [
    {
     "data": {
      "text/html": [
       "<style>\n",
       ".list-inline {list-style: none; margin:0; padding: 0}\n",
       ".list-inline>li {display: inline-block}\n",
       ".list-inline>li:not(:last-child)::after {content: \"\\00b7\"; padding: 0 .5ex}\n",
       "</style>\n",
       "<ol class=list-inline><li>6054.0330273912</li><li>705.966972608801</li></ol>\n"
      ],
      "text/latex": [
       "\\begin{enumerate*}\n",
       "\\item 6054.0330273912\n",
       "\\item 705.966972608801\n",
       "\\end{enumerate*}\n"
      ],
      "text/markdown": [
       "1. 6054.0330273912\n",
       "2. 705.966972608801\n",
       "\n",
       "\n"
      ],
      "text/plain": [
       "[1] 6054.033  705.967"
      ]
     },
     "metadata": {},
     "output_type": "display_data"
    }
   ],
   "source": [
    "SkeweDF::get_CI(w2,0.95)"
   ]
  },
  {
   "cell_type": "code",
   "execution_count": 6,
   "id": "a368aef7-ddd2-4199-94fb-c80d932e5bc9",
   "metadata": {},
   "outputs": [],
   "source": [
    "w3 <- c(430.00,810.00,600.00)"
   ]
  },
  {
   "cell_type": "code",
   "execution_count": 7,
   "id": "e73f8857-2b95-40fc-b233-9340275e1771",
   "metadata": {},
   "outputs": [
    {
     "data": {
      "text/html": [
       "<style>\n",
       ".list-inline {list-style: none; margin:0; padding: 0}\n",
       ".list-inline>li {display: inline-block}\n",
       ".list-inline>li:not(:last-child)::after {content: \"\\00b7\"; padding: 0 .5ex}\n",
       "</style>\n",
       "<ol class=list-inline><li>901.286354630887</li><li>325.38031203578</li></ol>\n"
      ],
      "text/latex": [
       "\\begin{enumerate*}\n",
       "\\item 901.286354630887\n",
       "\\item 325.38031203578\n",
       "\\end{enumerate*}\n"
      ],
      "text/markdown": [
       "1. 901.286354630887\n",
       "2. 325.38031203578\n",
       "\n",
       "\n"
      ],
      "text/plain": [
       "[1] 901.2864 325.3803"
      ]
     },
     "metadata": {},
     "output_type": "display_data"
    }
   ],
   "source": [
    "SkeweDF::get_CI(w3,0.94)"
   ]
  },
  {
   "cell_type": "code",
   "execution_count": null,
   "id": "a731f944-cd6c-4544-ae18-8c1194721668",
   "metadata": {},
   "outputs": [],
   "source": []
  }
 ],
 "metadata": {
  "kernelspec": {
   "display_name": "R",
   "language": "R",
   "name": "ir"
  },
  "language_info": {
   "codemirror_mode": "r",
   "file_extension": ".r",
   "mimetype": "text/x-r-source",
   "name": "R",
   "pygments_lexer": "r",
   "version": "4.1.2"
  }
 },
 "nbformat": 4,
 "nbformat_minor": 5
}
